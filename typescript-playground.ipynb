{
 "metadata": {
  "language_info": {
   "codemirror_mode": {
    "name": "ipython",
    "version": 3
   },
   "file_extension": ".py",
   "mimetype": "text/x-python",
   "name": "python",
   "nbconvert_exporter": "python",
   "pygments_lexer": "ipython3",
   "version": "3.8.6-final"
  },
  "orig_nbformat": 2,
  "kernelspec": {
   "name": "tslab",
   "display_name": "TypeScript",
   "language": "typescript"
  }
 },
 "nbformat": 4,
 "nbformat_minor": 2,
 "cells": [
  {
   "cell_type": "code",
   "execution_count": 2,
   "metadata": {},
   "outputs": [
    {
     "output_type": "stream",
     "name": "stdout",
     "text": [
      "Sniper {}\n",
      "object\n",
      "python\n",
      "[Function: Sniper]\n"
     ]
    }
   ],
   "source": [
    "import {Sniper} from '../../sniper-node';\n",
    "import * as util from 'util';\n",
    "console.log(Sniper);"
   ]
  },
  {
   "cell_type": "code",
   "execution_count": 3,
   "metadata": {},
   "outputs": [
    {
     "output_type": "stream",
     "name": "stdout",
     "text": [
      "Sniper {}\n",
      "object\n",
      "true\n",
      "python\n"
     ]
    }
   ],
   "source": [
    "//let snipe = new Sniper.constructor('../../sniper-core/snippets/');\n",
    "let snipe = new Sniper('../../sniper-core/snippets/','python');\n",
    "console.log(snipe);\n",
    "console.log(typeof snipe);\n",
    "console.log(snipe instanceof Sniper);\n",
    "console.log(snipe.get('language'));"
   ]
  },
  {
   "cell_type": "code",
   "execution_count": 17,
   "metadata": {},
   "outputs": [
    {
     "output_type": "stream",
     "name": "stdout",
     "text": [
      "python\n"
     ]
    }
   ],
   "source": [
    "snipe.get('language')"
   ]
  },
  {
   "cell_type": "code",
   "execution_count": 5,
   "metadata": {},
   "outputs": [
    {
     "output_type": "stream",
     "name": "stderr",
     "text": [
      "1:25 - Cannot find module 'vscode' or its corresponding type declarations.\n"
     ]
    }
   ],
   "source": [
    "import * as vscode from 'vscode';\n",
    "console.log(vscode.window.activeTextEditor);"
   ]
  },
  {
   "cell_type": "code",
   "execution_count": 7,
   "metadata": {},
   "outputs": [
    {
     "output_type": "stream",
     "name": "stdout",
     "text": [
      "{ tslab: '1.0.13', typescript: '3.9.5', node: 'v12.18.3' }\n",
      "linux\n",
      "5.8.15-201.fc32.x86_64\n"
     ]
    }
   ],
   "source": [
    "import * as tslab from 'tslab';\n",
    "import * as os from 'os';\n",
    "console.log(tslab.versions);\n",
    "console.log(os.platform());\n",
    "console.log(os.release());"
   ]
  },
  {
   "cell_type": "code",
   "execution_count": 6,
   "metadata": {},
   "outputs": [
    {
     "output_type": "stream",
     "name": "stdout",
     "text": [
      "{ Sniper: [Getter], default: { Sniper: [Function: Sniper] } }\n"
     ]
    }
   ],
   "source": [
    "console.log(Sniper)"
   ]
  },
  {
   "cell_type": "code",
   "execution_count": null,
   "metadata": {},
   "outputs": [],
   "source": []
  }
 ]
}